{
  "nbformat": 4,
  "nbformat_minor": 0,
  "metadata": {
    "colab": {
      "name": "Untitled19.ipynb",
      "provenance": []
    },
    "kernelspec": {
      "name": "python3",
      "display_name": "Python 3"
    },
    "language_info": {
      "name": "python"
    }
  },
  "cells": [
    {
      "cell_type": "code",
      "execution_count": null,
      "metadata": {
        "colab": {
          "base_uri": "https://localhost:8080/"
        },
        "id": "htb-HyjNqcCp",
        "outputId": "c4142b37-0ced-4415-b975-97bb86713147"
      },
      "outputs": [
        {
          "output_type": "stream",
          "name": "stdout",
          "text": [
            "Reversed list is;  [6, 5, 4, 3, 2]\n"
          ]
        }
      ],
      "source": [
        "#Q1) Write a program to reverse an integer in Python.\n",
        "a=[2,3,4,5,6]\n",
        "a.reverse()\n",
        "print(\"Reversed list is; \",a)"
      ]
    },
    {
      "cell_type": "code",
      "source": [
        "\"\"\"Q2) Write a program in Python to check whether an integer is\n",
        "Armstrong number or not.\"\"\"\n",
        "a = []\n",
        "b = input(\"Enter number: \")\n",
        "\n",
        "for i in b:\n",
        "  a.append(i)\n",
        "print(a)\n",
        "\n",
        "c=[]\n",
        "for j in range(len(a)):\n",
        "  c.append(int(a[j]))\n",
        "print(c)\n",
        "\n",
        "d=[]\n",
        "for k in range(len(c)):\n",
        "  d.append(c[k]**3)\n",
        "print(d)\n",
        "\n",
        "final=sum(d)\n",
        "print(int(final))\n",
        "\n",
        "c=int(b)\n",
        "\n",
        "if (final==c):\n",
        "  print(b,\" is an Armstrong number\")\n",
        "elif (final!=c):\n",
        "  print(b,\" is not an Armstrong number\")\n",
        "else:\n",
        "  print(b,\" is wrong input\")"
      ],
      "metadata": {
        "colab": {
          "base_uri": "https://localhost:8080/"
        },
        "id": "Vrlp12Cfqo1p",
        "outputId": "d844ce4b-3eb3-40fb-ece9-bb350c609510"
      },
      "execution_count": null,
      "outputs": [
        {
          "output_type": "stream",
          "name": "stdout",
          "text": [
            "Enter number: 153\n",
            "['1', '5', '3']\n",
            "[1, 5, 3]\n",
            "[1, 125, 27]\n",
            "153\n",
            "153  is an Armstrong number\n"
          ]
        }
      ]
    },
    {
      "cell_type": "code",
      "source": [
        "#Q3) Write a program in Python to check given number is prime or not.\n",
        "num = int(input(\"Enter a number: \"))\n",
        "if num > 1:\n",
        "   for i in range(2,num):\n",
        "       if (num % i) == 0:\n",
        "           print(num,\"is not a prime number\")\n",
        "           print(i,\"times\",num//i,\"is\",num)\n",
        "           break\n",
        "   else:\n",
        "       print(num,\"is a prime number\")\n",
        "else:\n",
        "   print(num,\"is not a prime number\")\n"
      ],
      "metadata": {
        "colab": {
          "base_uri": "https://localhost:8080/"
        },
        "id": "gpGVvEeeuXnD",
        "outputId": "734d6324-6c05-455a-acbe-d40beb9646e3"
      },
      "execution_count": null,
      "outputs": [
        {
          "output_type": "stream",
          "name": "stdout",
          "text": [
            "Enter a number: 2\n",
            "2 is a prime number\n"
          ]
        }
      ]
    },
    {
      "cell_type": "code",
      "source": [
        "#Q4) Write a program in Python to print the Fibonacci series using iterative method.\n",
        "\n",
        "first,second=0,1\n",
        "n = int(input(\"Input a number : \"))\n",
        "print(\"Fibonacci series are : \")\n",
        "for i in range(0,n):\n",
        "    if i<=1:\n",
        "        result=i\n",
        "    else:\n",
        "      result = first + second;\n",
        "      first = second;\n",
        "      second = result;\n",
        "    print(result)"
      ],
      "metadata": {
        "colab": {
          "base_uri": "https://localhost:8080/"
        },
        "id": "Ou6yCtJMvQ9H",
        "outputId": "525bdcd2-1f8f-48f8-cf2e-8efb66515fe3"
      },
      "execution_count": null,
      "outputs": [
        {
          "output_type": "stream",
          "name": "stdout",
          "text": [
            "Input a number : 2\n",
            "Fibonacci series are : \n",
            "0\n",
            "1\n"
          ]
        }
      ]
    },
    {
      "cell_type": "code",
      "source": [
        "#Q5) Write a program in Python to check whether a number is palindrome or not using iterative method.\n",
        "n = int(input(\"Enter a number : \"))\n",
        "reverse,temp = 0,n\n",
        "while temp!=0:\n",
        "    reverse = reverse*10 + temp%10;        \n",
        "    temp=temp//10;\n",
        "if reverse==n:\n",
        "    print(\"number is palindrom\")\n",
        "else:\n",
        "    print(\"number is not palindrom\")"
      ],
      "metadata": {
        "colab": {
          "base_uri": "https://localhost:8080/"
        },
        "id": "nnqfjksJv-C8",
        "outputId": "a3ffb6b6-d303-430a-ca86-31b0d685db1a"
      },
      "execution_count": null,
      "outputs": [
        {
          "output_type": "stream",
          "name": "stdout",
          "text": [
            "Enter a number : 6\n",
            "number is palindrom\n"
          ]
        }
      ]
    },
    {
      "cell_type": "code",
      "source": [
        "#Q6) Write a program in Python to find greatest among three integers.\n",
        "num1 = float(input(\"Enter first number: \"))\n",
        "num2 = float(input(\"Enter second number: \"))\n",
        "num3 = float(input(\"Enter third number: \"))\n",
        " \n",
        "if (num1 > num2) and (num1 > num3):\n",
        "   largest = num1\n",
        "elif (num2 > num1) and (num2 > num3):\n",
        "   largest = num2\n",
        "else:\n",
        "   largest = num3\n",
        " \n",
        "print(\"The largest number is\",largest)"
      ],
      "metadata": {
        "colab": {
          "base_uri": "https://localhost:8080/"
        },
        "id": "i_6laglcxInz",
        "outputId": "c883309f-6ebc-451d-de45-b239b29ad51d"
      },
      "execution_count": null,
      "outputs": [
        {
          "output_type": "stream",
          "name": "stdout",
          "text": [
            "Enter first number: 5\n",
            "Enter second number: 6\n",
            "Enter third number: 4\n",
            "The largest number is 6.0\n"
          ]
        }
      ]
    },
    {
      "cell_type": "code",
      "source": [
        "#Q7) Write a program in Python to check if a number is binary?\n",
        "\n",
        "num = int(input(\"please give a number : \"))\n",
        "while(num>0):\n",
        "    j=num%10\n",
        "    if j!=0 and j!=1:\n",
        "        print(\"num is not binary\")\n",
        "        break\n",
        "    num=num//10\n",
        "    if num==0:\n",
        "        print(\"num is binary\") "
      ],
      "metadata": {
        "colab": {
          "base_uri": "https://localhost:8080/"
        },
        "id": "jZq9msREx1qd",
        "outputId": "f9edebef-a59c-4e08-8936-1a5334a469d9"
      },
      "execution_count": null,
      "outputs": [
        {
          "output_type": "stream",
          "name": "stdout",
          "text": [
            "please give a number : 1010\n",
            "num is binary\n"
          ]
        }
      ]
    },
    {
      "cell_type": "code",
      "source": [
        "#Q8) Write a program in Python to find sum of digits.\n",
        "n=int(input(\"Enter a number:\"))\n",
        "tot=0\n",
        "while(n>0):\n",
        "    dig=n%10\n",
        "    tot=tot+dig\n",
        "    n=n//10\n",
        "print(\"The total sum of digits is:\",tot)"
      ],
      "metadata": {
        "id": "EqX_ixN1zz7R",
        "colab": {
          "base_uri": "https://localhost:8080/"
        },
        "outputId": "a6be3eec-7ee8-4d9b-dc2e-05fd01e3f5f7"
      },
      "execution_count": 8,
      "outputs": [
        {
          "output_type": "stream",
          "name": "stdout",
          "text": [
            "Enter a number:5623\n",
            "The total sum of digits is: 16\n"
          ]
        }
      ]
    },
    {
      "cell_type": "code",
      "source": [
        "#Q9) Write a program in Python to swap two numbers without using third variable?\n",
        "\n",
        "x = 5\n",
        "y = 7\n",
        "print (\"Before swapping: \")\n",
        "print(\"Value of x : \", x, \" and y : \", y)\n",
        "x, y = y, x\n",
        "print (\"After swapping: \")\n",
        "print(\"Value of x : \", x, \" and y : \", y)\n"
      ],
      "metadata": {
        "colab": {
          "base_uri": "https://localhost:8080/"
        },
        "id": "sRzDq44I5FuD",
        "outputId": "61731b8c-7144-4c2b-8540-bbe80065424b"
      },
      "execution_count": 9,
      "outputs": [
        {
          "output_type": "stream",
          "name": "stdout",
          "text": [
            "Before swapping: \n",
            "Value of x :  5  and y :  7\n",
            "After swapping: \n",
            "Value of x :  7  and y :  5\n"
          ]
        }
      ]
    },
    {
      "cell_type": "code",
      "source": [
        "#Q10) Write a program in Python to swap two numbers using third variable?\n",
        "a = int(input(\"please give first number a: \"))\n",
        "b = int(input(\"please give second number b: \"))\n",
        "print(\"value of a is : \", a)\n",
        "print(\"value of b is : \", b)\n",
        "tempvar=a\n",
        "a=b\n",
        "b=tempvar\n",
        "print(\"After swapping\")\n",
        "print(\"value of a is : \", a)\n",
        "print(\"value of b is : \", b)"
      ],
      "metadata": {
        "colab": {
          "base_uri": "https://localhost:8080/"
        },
        "id": "tCghpA1b5XmY",
        "outputId": "c81b420d-db6c-4777-ec08-2e2a0cffccb1"
      },
      "execution_count": 11,
      "outputs": [
        {
          "output_type": "stream",
          "name": "stdout",
          "text": [
            "please give first number a: 5\n",
            "please give second number b: 6\n",
            "value of a is :  5\n",
            "value of b is :  6\n",
            "After swapping\n",
            "value of a is :  6\n",
            "value of b is :  5\n"
          ]
        }
      ]
    },
    {
      "cell_type": "code",
      "source": [
        "#Q11) Python Program to find the Average of numbers.\n",
        "n=int(input(\"Enter the number of elements to be inserted: \"))\n",
        "a=[]\n",
        "for i in range(0,n):\n",
        "    elem=int(input(\"Enter element: \"))\n",
        "    a.append(elem)\n",
        "avg=sum(a)/n\n",
        "print(\"Average of elements in the list\",round(avg,2))"
      ],
      "metadata": {
        "colab": {
          "base_uri": "https://localhost:8080/"
        },
        "id": "zpE-Yvlo556b",
        "outputId": "eb81a57a-858f-40eb-a929-98b60560909f"
      },
      "execution_count": 12,
      "outputs": [
        {
          "output_type": "stream",
          "name": "stdout",
          "text": [
            "Enter the number of elements to be inserted: 5\n",
            "Enter element: 5\n",
            "Enter element: 6\n",
            "Enter element: 7\n",
            "Enter element: 8\n",
            "Enter element: 9\n",
            "Average of elements in the list 7.0\n"
          ]
        }
      ]
    },
    {
      "cell_type": "code",
      "source": [
        "#Q12) Python Program to calculate factorial using iterative method.\n",
        "\n",
        "def factorial(n):\n",
        "    fact = 1\n",
        "    for num in range(2, n + 1):\n",
        "        fact *= num\n",
        "    return fact\n",
        "\n",
        "number = int(input(\"Enter Number\"))\n",
        "if number < 0:\n",
        "   print(\"Factorial exists for positive numbers only\")\n",
        "elif number == 0:\n",
        "   print(\"Factorial of 0 : 1\")\n",
        "else:\n",
        "   print(\"Factorial of\",number,\":\",factorial(number))"
      ],
      "metadata": {
        "colab": {
          "base_uri": "https://localhost:8080/"
        },
        "id": "-T_3b1hl6Ycw",
        "outputId": "ba01ade4-b59d-4920-9dcb-5b814a234199"
      },
      "execution_count": 16,
      "outputs": [
        {
          "output_type": "stream",
          "name": "stdout",
          "text": [
            "Enter Number5\n",
            "Factorial of 5 : 120\n"
          ]
        }
      ]
    },
    {
      "cell_type": "code",
      "source": [
        "#Q13) Python Program to calculate factorial.\n",
        "num = int(input(\"Enter NUmber\"))\n",
        "factorial = 1\n",
        "if num < 0:\n",
        "   print(\"Sorry, factorial does not exist for negative numbers\")\n",
        "elif num == 0:\n",
        "   print(\"The factorial of 0 is 1\")\n",
        "else:\n",
        "   for i in range(1,num + 1):\n",
        "       factorial = factorial*i\n",
        "   print(\"The factorial of\",num,\"is\",factorial)"
      ],
      "metadata": {
        "colab": {
          "base_uri": "https://localhost:8080/"
        },
        "id": "-PWQd7rU6z0d",
        "outputId": "837181ac-5e80-44b6-9bbb-dd0acbdd77ab"
      },
      "execution_count": 18,
      "outputs": [
        {
          "output_type": "stream",
          "name": "stdout",
          "text": [
            "Enter NUmber5\n",
            "The factorial of 5 is 120\n"
          ]
        }
      ]
    },
    {
      "cell_type": "code",
      "source": [
        "#Q14) Python Program to check a given number is even or odd.\n",
        "num = int(input(\"Enter a number: \"))  \n",
        "if (num % 2) == 0:  \n",
        "   print(\"{0} is Even number\".format(num))  \n",
        "else:  \n",
        "   print(\"{0} is Odd number\".format(num))  "
      ],
      "metadata": {
        "colab": {
          "base_uri": "https://localhost:8080/"
        },
        "id": "kaB4VWJn7m3o",
        "outputId": "93c544b0-1297-4878-f94c-b1d8ef6ea770"
      },
      "execution_count": 19,
      "outputs": [
        {
          "output_type": "stream",
          "name": "stdout",
          "text": [
            "Enter a number: 5\n",
            "5 is Odd number\n"
          ]
        }
      ]
    },
    {
      "cell_type": "code",
      "source": [
        "#Q15) Python program to print first n Prime Number.\n",
        "def Prime(n):  \n",
        "    for i in range(2,n//2+1):  \n",
        "        if(n%i==0):  \n",
        "            return(0)  \n",
        "    return(1)  \n",
        "  \n",
        "N=int(input(\"Enter N:\"))  \n",
        "i=2 \n",
        "lst=[] \n",
        "while(1):  \n",
        "    if(Prime(i)):  \n",
        "        lst.append(i) \n",
        "        if(len(lst)==N): \n",
        "            break \n",
        "    i+=1 \n",
        "print(\"First \"+str(N)+\" Prime numbers are:\",end=\"\") \n",
        "print(*lst) "
      ],
      "metadata": {
        "colab": {
          "base_uri": "https://localhost:8080/"
        },
        "id": "89wYKLS675eC",
        "outputId": "b817d4c4-26ea-41d2-8144-35ca14402e10"
      },
      "execution_count": 20,
      "outputs": [
        {
          "output_type": "stream",
          "name": "stdout",
          "text": [
            "Enter N:10\n",
            "First 10 Prime numbers are:2 3 5 7 11 13 17 19 23 29\n"
          ]
        }
      ]
    },
    {
      "cell_type": "code",
      "source": [
        "#Q16) Python Program to print Prime Number in a given range.\n",
        "# Python program to display all the prime numbers within an interval\n",
        "\n",
        "lower = int(input(\"Enter Upper limit\"))\n",
        "upper = int(input(\"Enter Lower Limit\"))\n",
        "\n",
        "print(\"Prime numbers between\", lower, \"and\", upper, \"are:\")\n",
        "\n",
        "for num in range(lower, upper + 1):\n",
        "   # all prime numbers are greater than 1\n",
        "   if num > 1:\n",
        "       for i in range(2, num):\n",
        "           if (num % i) == 0:\n",
        "               break\n",
        "       else:\n",
        "           print(num)"
      ],
      "metadata": {
        "colab": {
          "base_uri": "https://localhost:8080/"
        },
        "id": "tzdOAXsi9s3r",
        "outputId": "886d2e39-b3bf-405e-fa68-c438432abdcf"
      },
      "execution_count": 22,
      "outputs": [
        {
          "output_type": "stream",
          "name": "stdout",
          "text": [
            "Enter Upper limit99\n",
            "Enter Lower Limit999\n",
            "Prime numbers between 99 and 999 are:\n",
            "101\n",
            "103\n",
            "107\n",
            "109\n",
            "113\n",
            "127\n",
            "131\n",
            "137\n",
            "139\n",
            "149\n",
            "151\n",
            "157\n",
            "163\n",
            "167\n",
            "173\n",
            "179\n",
            "181\n",
            "191\n",
            "193\n",
            "197\n",
            "199\n",
            "211\n",
            "223\n",
            "227\n",
            "229\n",
            "233\n",
            "239\n",
            "241\n",
            "251\n",
            "257\n",
            "263\n",
            "269\n",
            "271\n",
            "277\n",
            "281\n",
            "283\n",
            "293\n",
            "307\n",
            "311\n",
            "313\n",
            "317\n",
            "331\n",
            "337\n",
            "347\n",
            "349\n",
            "353\n",
            "359\n",
            "367\n",
            "373\n",
            "379\n",
            "383\n",
            "389\n",
            "397\n",
            "401\n",
            "409\n",
            "419\n",
            "421\n",
            "431\n",
            "433\n",
            "439\n",
            "443\n",
            "449\n",
            "457\n",
            "461\n",
            "463\n",
            "467\n",
            "479\n",
            "487\n",
            "491\n",
            "499\n",
            "503\n",
            "509\n",
            "521\n",
            "523\n",
            "541\n",
            "547\n",
            "557\n",
            "563\n",
            "569\n",
            "571\n",
            "577\n",
            "587\n",
            "593\n",
            "599\n",
            "601\n",
            "607\n",
            "613\n",
            "617\n",
            "619\n",
            "631\n",
            "641\n",
            "643\n",
            "647\n",
            "653\n",
            "659\n",
            "661\n",
            "673\n",
            "677\n",
            "683\n",
            "691\n",
            "701\n",
            "709\n",
            "719\n",
            "727\n",
            "733\n",
            "739\n",
            "743\n",
            "751\n",
            "757\n",
            "761\n",
            "769\n",
            "773\n",
            "787\n",
            "797\n",
            "809\n",
            "811\n",
            "821\n",
            "823\n",
            "827\n",
            "829\n",
            "839\n",
            "853\n",
            "857\n",
            "859\n",
            "863\n",
            "877\n",
            "881\n",
            "883\n",
            "887\n",
            "907\n",
            "911\n",
            "919\n",
            "929\n",
            "937\n",
            "941\n",
            "947\n",
            "953\n",
            "967\n",
            "971\n",
            "977\n",
            "983\n",
            "991\n",
            "997\n"
          ]
        }
      ]
    },
    {
      "cell_type": "code",
      "source": [
        "#Q17) Python Program to find Smallest number among three.\n",
        "num1=int(input(\"Enter the first number: \"))\n",
        "num2=int(input(\"Enter the second number: \"))\n",
        "num3=int(input(\"Enter the third number: \"))\n",
        "def find_Smallest():  \n",
        "    if(num1<=num2) and (num1<=num3):\n",
        "        Smallest=num1\n",
        "    elif(num2<=num1) and (num2<=num3):\n",
        "        Smallest=num2\n",
        "    else:\n",
        "        Smallest=num3\n",
        "    print(\"Smallest number is\", Smallest)\n"
      ],
      "metadata": {
        "colab": {
          "base_uri": "https://localhost:8080/"
        },
        "id": "VGgbh1Tf-GjL",
        "outputId": "80b5db09-3b56-47fd-ba7b-723af2231f1c"
      },
      "execution_count": 24,
      "outputs": [
        {
          "name": "stdout",
          "output_type": "stream",
          "text": [
            "Enter the first number: 5\n",
            "Enter the second number: 4\n",
            "Enter the third number: 9\n"
          ]
        }
      ]
    },
    {
      "cell_type": "code",
      "source": [
        "#Q18) Python program to calculate the power using the POW method.\n",
        "base = int(input(\"Base Number\"))\n",
        "exponent = int(input(\"Exponent Number\"))\n",
        "\n",
        "result = pow(base, exponent)\n",
        "\n",
        "print(\"Answer = \" + str(result))"
      ],
      "metadata": {
        "colab": {
          "base_uri": "https://localhost:8080/"
        },
        "id": "ayzznVxh-qfN",
        "outputId": "01ab023a-e9f1-40f2-e028-298c3b669b22"
      },
      "execution_count": 26,
      "outputs": [
        {
          "output_type": "stream",
          "name": "stdout",
          "text": [
            "Base Number5\n",
            "Exponent Number2\n",
            "Answer = 25\n"
          ]
        }
      ]
    },
    {
      "cell_type": "code",
      "source": [
        "#Q19) Python Program to calculate the square of a given number.\n",
        "digit = int(input(\"Enter an integer number: \"))\n",
        "\n",
        "square = digit*digit\n",
        "\n",
        "print(\"Square of \",digit,\" is\", square)"
      ],
      "metadata": {
        "colab": {
          "base_uri": "https://localhost:8080/"
        },
        "id": "G5NxYF-d_IN4",
        "outputId": "61682b71-71ca-488d-c18c-69e4bb58051d"
      },
      "execution_count": 30,
      "outputs": [
        {
          "output_type": "stream",
          "name": "stdout",
          "text": [
            "Enter an integer number: 5\n",
            "Square of  5  is 25\n"
          ]
        }
      ]
    },
    {
      "cell_type": "code",
      "source": [
        "#Q20) Python Program to calculate the cube of a given number\n",
        "digit = int(input(\"Enter an integer number: \"))\n",
        "\n",
        "Cube = digit*digit*digit\n",
        "\n",
        "print(\"Cube of \",digit,\" is\", Cube)"
      ],
      "metadata": {
        "colab": {
          "base_uri": "https://localhost:8080/"
        },
        "id": "U8kS6StqC2nU",
        "outputId": "36f7917f-1e2b-4dd2-d43d-fd132697151f"
      },
      "execution_count": 31,
      "outputs": [
        {
          "output_type": "stream",
          "name": "stdout",
          "text": [
            "Enter an integer number: 5\n",
            "Cube of  5  is 125\n"
          ]
        }
      ]
    },
    {
      "cell_type": "code",
      "source": [
        "#Q21) Python Program to calculate the square root of a given number.\n",
        "import math\n",
        "num = int(input(\"Enter a number:\"))\n",
        "sqRoot = math.sqrt(num)\n",
        "print (\"The square root of\", num, \"is \" ,sqRoot)\n",
        " "
      ],
      "metadata": {
        "colab": {
          "base_uri": "https://localhost:8080/"
        },
        "id": "vJbG0L36DpQq",
        "outputId": "47832972-4e48-4757-ff34-c69ed4d9645b"
      },
      "execution_count": 33,
      "outputs": [
        {
          "output_type": "stream",
          "name": "stdout",
          "text": [
            "Enter a number:5\n",
            "The square root of 5 is  2.23606797749979\n"
          ]
        }
      ]
    },
    {
      "cell_type": "code",
      "source": [
        "#Q22) Python Program to Convert Decimal Number into Binary.\n",
        "num=int(input(\"Enter Decimal No: \"))\n",
        "def DecimalToBinary(num):\n",
        "     \n",
        "    if num >= 1:\n",
        "        DecimalToBinary(num // 2)\n",
        "    print(num % 2, end = '')\n",
        "if __name__ == '__main__':\n",
        "    \n",
        "    dec_val = 24\n",
        "    \n",
        "    DecimalToBinary(dec_val)"
      ],
      "metadata": {
        "colab": {
          "base_uri": "https://localhost:8080/"
        },
        "id": "rMmyOvr6EtXL",
        "outputId": "0bd7c1e5-03c5-4183-cba3-8f9157524716"
      },
      "execution_count": 35,
      "outputs": [
        {
          "output_type": "stream",
          "name": "stdout",
          "text": [
            "Enter Decimal No: 5\n",
            "011000"
          ]
        }
      ]
    },
    {
      "cell_type": "code",
      "source": [
        "#Q23) Python Program to convert Decimal number to Octal number.\n",
        "# Python program to convert decimal into other number systems\n",
        "dec = int(input(\"Enter a Decimal No: \"))\n",
        "\n",
        "print(\"The decimal value of\", dec, \"is:\")\n",
        "print(oct(dec), \"in octal.\")"
      ],
      "metadata": {
        "colab": {
          "base_uri": "https://localhost:8080/"
        },
        "id": "JFTRAN-xIFwV",
        "outputId": "b019ec05-c53c-4eb3-c16a-2da1b387bdab"
      },
      "execution_count": 37,
      "outputs": [
        {
          "output_type": "stream",
          "name": "stdout",
          "text": [
            "Enter a Decimal No: 8\n",
            "The decimal value of 8 is:\n",
            "0o10 in octal.\n"
          ]
        }
      ]
    },
    {
      "cell_type": "code",
      "source": [
        "#Q24) Python Program to check the given year is a leap year or not.\n",
        "year=int(input(\"Enter year to be checked:\"))\n",
        "if(year%4==0 and year%100!=0 or year%400==0):\n",
        "    print(\"The year is a leap year!\")\n",
        "else:\n",
        "    print(\"The year isn't a leap year!\")"
      ],
      "metadata": {
        "colab": {
          "base_uri": "https://localhost:8080/"
        },
        "id": "ta_iwnSFIwyh",
        "outputId": "5f1d2352-d787-4f96-9861-f7ff354316ae"
      },
      "execution_count": 38,
      "outputs": [
        {
          "output_type": "stream",
          "name": "stdout",
          "text": [
            "Enter year to be checked:2019\n",
            "The year isn't a leap year!\n"
          ]
        }
      ]
    },
    {
      "cell_type": "code",
      "source": [
        "#Q25) Python Program to convert Celsius to Fahrenheit.\n",
        "celsius = int(input(\"Enter Temperature in Celsius: \"))\n",
        "fahrenheit = (celsius * 1.8) + 32\n",
        "print('%0.1f degree Celsius is equal to %0.1f degree Fahrenheit' %(celsius,fahrenheit))"
      ],
      "metadata": {
        "colab": {
          "base_uri": "https://localhost:8080/"
        },
        "id": "WA31nEU1JZCM",
        "outputId": "69a1007d-292c-4d84-c4ac-34f1ffed3b7e"
      },
      "execution_count": 39,
      "outputs": [
        {
          "output_type": "stream",
          "name": "stdout",
          "text": [
            "Enter Temperature in Celsius: 36\n",
            "36.0 degree Celsius is equal to 96.8 degree Fahrenheit\n"
          ]
        }
      ]
    },
    {
      "cell_type": "code",
      "source": [
        "#Q26) Python Program to convert Fahrenheit to Celsius.\n",
        "print(\"Enter Temperature in Fahrenheit: \")\n",
        "fah = float(input())\n",
        "\n",
        "cel = (fah-32)/1.8\n",
        "print(\"\\nEquivalent Temperature in Celsius: \", cel)"
      ],
      "metadata": {
        "colab": {
          "base_uri": "https://localhost:8080/"
        },
        "id": "MMYijn12J68M",
        "outputId": "04379721-e596-49f9-d58f-5814cd577421"
      },
      "execution_count": 40,
      "outputs": [
        {
          "output_type": "stream",
          "name": "stdout",
          "text": [
            "Enter Temperature in Fahrenheit: \n",
            "96\n",
            "\n",
            "Equivalent Temperature in Celsius:  35.55555555555556\n"
          ]
        }
      ]
    },
    {
      "cell_type": "code",
      "source": [
        ""
      ],
      "metadata": {
        "id": "5nEWf4mcKTcS"
      },
      "execution_count": null,
      "outputs": []
    }
  ]
}